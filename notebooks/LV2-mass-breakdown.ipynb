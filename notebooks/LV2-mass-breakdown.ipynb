{
 "metadata": {
  "name": "",
  "signature": "sha256:463dc1981632db3727b466451240ed5ae0cfe81b3ca33878cb17741213c7e31e"
 },
 "nbformat": 3,
 "nbformat_minor": 0,
 "worksheets": [
  {
   "cells": [
    {
     "cell_type": "markdown",
     "metadata": {},
     "source": [
      "# LV2 Mass Breakdown\n",
      "\n",
      "Compenent mass"
     ]
    },
    {
     "cell_type": "code",
     "collapsed": false,
     "input": [
      "# Breakdown of LV2, measured from flight vehicle. Mass in grams\n",
      "\n",
      "LV2 = [\n",
      "  {'name': \"Solid Motor Casing\",     'm': 5003, 'tags': ['motor']},\n",
      "  {'name': \"Solid Propellent\",       'm': 7000, 'tags': ['motor', 'propellent']},\n",
      "  {'name': \"Spin Can Skin\",          'm': 1200, 'tags': ['motor', 'fin', 'lv2_al']},\n",
      "  {'name': \"Motor Skin\",             'm': 1200, 'tags': ['motor', 'lv2_al']},\n",
      "  {'name': \"FC Skin\",                'm':  200, 'tags': ['fc', 'lv2_al']},\n",
      "  {'name': \"FC Antenna\",             'm':   20, 'tags': ['fc']},\n",
      "  {'name': \"Roll Skin\",              'm':  100, 'tags': ['roll', 'lv2_al']},\n",
      "  {'name': \"Camera Module Skin\",     'm':  100, 'tags': ['camera', 'lv2_al']},\n",
      "  {'name': \"Payload Module Skin\",    'm':  200, 'tags': ['payload', 'lv2_al']},\n",
      "  {'name': \"Payload Module Shell\",   'm':   50, 'tags': ['payload', 'lv2_glass']},\n",
      "  {'name': \"Recovery Module Skin\",   'm':  200, 'tags': ['recovery', 'lv2_al']},\n",
      "  {'name': \"Recovery Module Shell\",  'm':   50, 'tags': ['recovery', 'lv2_glass']},\n",
      "  {'name': \"NSR\",                    'm':   20, 'tags': ['recovery']},\n",
      "  {'name': \"Nose Cone\",              'm':  120, 'tags': ['nose', 'lv2_glass']},\n",
      "  {'name': \"Main Parachute\",         'm':  320, 'tags': ['recovery']},\n",
      "  {'name': \"Drogue Parachute\",       'm':  320, 'tags': ['recovery']},\n",
      "  {'name': \"Recovery Systems\",       'm':  120, 'tags': ['recovery']},\n",
      "  {'name': \"Payload Frame\",          'm':  200, 'tags': ['payload']},\n",
      "  {'name': \"Payload Systems\",        'm':   20, 'tags': ['payload']},\n",
      "  {'name': \"FC Frame\",               'm':  120, 'tags': ['fc']},\n",
      "  {'name': \"Cameras\",                'm':   20, 'tags': ['camera']},\n",
      "  {'name': \"Roll Control\",           'm':   20, 'tags': ['roll']},\n",
      "  {'name': \"Fins\",                   'm':   20, 'tags': ['fin']},\n",
      "  {'name': \"Connection Rings\",       'm':   20, 'tags': ['frame']},\n",
      "  {'name': \"Spin Can Bearing\",       'm':  200, 'tags': ['motor', 'fin']},\n",
      "]\n",
      "total_mass = 0\n",
      "for item in LV2:\n",
      "    total_mass += item['m']\n",
      "\n",
      "print \"%0.2f kg\" % (total_mass/1000.0)"
     ],
     "language": "python",
     "metadata": {},
     "outputs": [
      {
       "output_type": "stream",
       "stream": "stdout",
       "text": [
        "16.84 kg\n"
       ]
      }
     ],
     "prompt_number": 1
    },
    {
     "cell_type": "code",
     "collapsed": false,
     "input": [
      "print \" {0:<30} | {1:<10} | {2:<25}\".format(\"LV2 Component\", \"Mass [g]\", \"Percent of Total Mass [%]\")\n",
      "print \"\", \"-\"*30, \"|\", \"-\"*9 + ':', \"|\", \"-\"*24 + \":\"\n",
      "for item in sorted(LV2, key=lambda m: m['m'], reverse=True):\n",
      "    print \" {0:<30}\".format(item['name']), \"|\", \"%10.0f\" % item['m'], \"|\", \"%25.1f\" % (item['m']/float(total_mass)*100)\n",
      "print \"\", \"-\"*30, \"|\", \"-\"*10, \"|\", \"-\"*25\n",
      "print \" {0:<30}\".format(\"Total\"), \"|\", \"%10.0f\" % total_mass, \"|                     100%\""
     ],
     "language": "python",
     "metadata": {},
     "outputs": [
      {
       "output_type": "stream",
       "stream": "stdout",
       "text": [
        " LV2 Component                  | Mass [g]   | Percent of Total Mass [%]\n",
        " ------------------------------ | ---------: | ------------------------:\n",
        " Solid Propellent               |       7000 |                      41.6\n",
        " Solid Motor Casing             |       5003 |                      29.7\n",
        " Spin Can Skin                  |       1200 |                       7.1\n",
        " Motor Skin                     |       1200 |                       7.1\n",
        " Main Parachute                 |        320 |                       1.9\n",
        " Drogue Parachute               |        320 |                       1.9\n",
        " FC Skin                        |        200 |                       1.2\n",
        " Payload Module Skin            |        200 |                       1.2\n",
        " Recovery Module Skin           |        200 |                       1.2\n",
        " Payload Frame                  |        200 |                       1.2\n",
        " Spin Can Bearing               |        200 |                       1.2\n",
        " Nose Cone                      |        120 |                       0.7\n",
        " Recovery Systems               |        120 |                       0.7\n",
        " FC Frame                       |        120 |                       0.7\n",
        " Roll Skin                      |        100 |                       0.6\n",
        " Camera Module Skin             |        100 |                       0.6\n",
        " Payload Module Shell           |         50 |                       0.3\n",
        " Recovery Module Shell          |         50 |                       0.3\n",
        " FC Antenna                     |         20 |                       0.1\n",
        " NSR                            |         20 |                       0.1\n",
        " Payload Systems                |         20 |                       0.1\n",
        " Cameras                        |         20 |                       0.1\n",
        " Roll Control                   |         20 |                       0.1\n",
        " Fins                           |         20 |                       0.1\n",
        " Connection Rings               |         20 |                       0.1\n",
        " ------------------------------ | ---------- | -------------------------\n",
        " Total                          |      16843 |                     100%\n"
       ]
      }
     ],
     "prompt_number": 2
    },
    {
     "cell_type": "markdown",
     "metadata": {},
     "source": []
    }
   ],
   "metadata": {}
  }
 ]
}