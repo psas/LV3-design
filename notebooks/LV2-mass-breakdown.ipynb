{
 "metadata": {
  "name": "",
  "signature": "sha256:0bed4c8c92342eb1ca80be488c792ad271af1729faf08c3e735a2d6222cf3387"
 },
 "nbformat": 3,
 "nbformat_minor": 0,
 "worksheets": [
  {
   "cells": [
    {
     "cell_type": "markdown",
     "metadata": {},
     "source": [
      "# LV2 Mass Breakdown\n",
      "\n",
      "Compenent mass"
     ]
    },
    {
     "cell_type": "code",
     "collapsed": false,
     "input": [
      "LV2 = {\n",
      "    'Motor Casing':      23.000,\n",
      "    'Propellent':        12.000,\n",
      "    'spin_al':            2.000,\n",
      "    'motor_al':           2.300,\n",
      "    'fc_al':              1.200,\n",
      "    'fc_anten':           3.300,\n",
      "    'roll_al':            1.200,\n",
      "    'camera_al':          1.200,\n",
      "    'payload_al':         3.200,\n",
      "    'nsr':                0.400,\n",
      "     'nose':              2.100,\n",
      "}\n",
      "\n",
      "total_mass = 0\n",
      "frame_mass = 0\n",
      "for key, mass in LV2.items():\n",
      "    total_mass += mass\n",
      "    if '_al' in key:\n",
      "        frame_mass += mass\n",
      "\n",
      "print total_mass, frame_mass, frame_mass/total_mass"
     ],
     "language": "python",
     "metadata": {},
     "outputs": [
      {
       "output_type": "stream",
       "stream": "stdout",
       "text": [
        "51.9 11.1 0.21387283237\n"
       ]
      }
     ],
     "prompt_number": 1
    },
    {
     "cell_type": "markdown",
     "metadata": {},
     "source": []
    }
   ],
   "metadata": {}
  }
 ]
}