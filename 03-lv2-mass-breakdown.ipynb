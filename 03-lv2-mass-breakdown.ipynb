{
 "cells": [
  {
   "cell_type": "markdown",
   "metadata": {},
   "source": [
    "# LV2 Mass Breakdown\n",
    "\n",
    "Compenent mass"
   ]
  },
  {
   "cell_type": "code",
   "execution_count": null,
   "metadata": {
    "collapsed": false
   },
   "outputs": [],
   "source": [
    "# Breakdown of LV2, measured from flight vehicle. Mass in grams\n",
    "\n",
    "# whole bottom: 4814 + 205(motor holder) only two fins.\n",
    "LV2 = [\n",
    "  {'name': \"Solid Motor Casing\",     'm':  4812, 'tags': ['motor']},\n",
    "  {'name': \"Solid Propellent\",       'm':   8496, 'tags': ['motor', 'propellent']},\n",
    "  {'name': \"Spin Can Skin\",          'm':    2209.5, 'tags': ['motor', 'fin', 'lv2_al']},\n",
    "  {'name': \"Motor Skin\",             'm':    2209.5, 'tags': ['motor', 'lv2_al']},\n",
    "  {'name': \"FC Skin\",                'm': 2359, 'tags': ['fc', 'lv2_al']},\n",
    "  {'name': \"Payload Module Skin\",    'm':  556, 'tags': ['payload', 'lv2_al']},\n",
    "  {'name': \"Payload Module Shell\",   'm':  774, 'tags': ['payload', 'lv2_glass']},\n",
    "  {'name': \"Recovery Module\",        'm': 2122, 'tags': ['recovery', 'lv2_al']},\n",
    "  {'name': \"NSR\",                    'm':  340, 'tags': ['recovery']},\n",
    "  {'name': \"Nose Cone\",              'm':  959, 'tags': ['nose', 'lv2_glass']},\n",
    "  {'name': \"Nose Cone Tip\",          'm':  286, 'tags': ['nose', 'lv2_glass']},\n",
    "  {'name': \"Parachutes\",             'm': 2430, 'tags': ['recovery']},\n",
    "  {'name': \"Payload Frame\",          'm': 1384, 'tags': ['payload']},\n",
    "  {'name': \"FC Frame\",               'm': 2587, 'tags': ['fc']},\n",
    "  {'name': \"Cameras\",                'm': 600, 'tags': ['camera']},\n",
    "  {'name': \"Roll Control\",           'm':1276-159, 'tags': ['roll']},\n",
    "  {'name': \"Fins\",                   'm':  300*3, 'tags': ['fin']},\n",
    "  {'name': \"Connection Rings\",       'm':  159*3, 'tags': ['frame']},\n",
    "  {'name': \"Launch Lugs\",            'm':   13.4*3, 'tags': ['nose', 'lv2_glass']},\n",
    "  {'name': \"Down Camera\",            'm':   344, 'tags': ['nose', 'lv2_glass']},\n",
    "]\n",
    "total_mass = 0\n",
    "propellent = 0\n",
    "for item in LV2:\n",
    "    if item['name'] == \"Solid Propellent\":\n",
    "        propellent = item['m']\n",
    "    total_mass += item['m']\n",
    "\n",
    "print \"Total liftoff mass of the LV2 was %0.0f kg\" % (total_mass/1000.0)\n",
    "print \"The vehicle mass ratio is %0.2f\" % (total_mass/(total_mass-propellent))"
   ]
  },
  {
   "cell_type": "code",
   "execution_count": null,
   "metadata": {
    "collapsed": false
   },
   "outputs": [],
   "source": [
    "print \" {0:<30} | {1:<10} | {2:<25}\".format(\"LV2 Component\", \"Mass [g]\", \"Percent of Total Mass [%]\")\n",
    "print \"\", \"-\"*30, \"|\", \"-\"*9 + ':', \"|\", \"-\"*24 + \":\"\n",
    "for item in sorted(LV2, key=lambda m: m['m'], reverse=True):\n",
    "    print \" {0:<30}\".format(item['name']), \"|\", \"%10.0f\" % item['m'], \"|\", \"%25.1f\" % (item['m']/float(total_mass)*100)\n",
    "print \"\", \"-\"*30, \"|\", \"-\"*10, \"|\", \"-\"*25\n",
    "print \" {0:<30}\".format(\"Total\"), \"|\", \"%10.0f\" % total_mass, \"|                     100%\""
   ]
  },
  {
   "cell_type": "markdown",
   "metadata": {},
   "source": []
  }
 ],
 "metadata": {
  "kernelspec": {
   "display_name": "Python 2",
   "language": "python",
   "name": "python2"
  },
  "language_info": {
   "codemirror_mode": {
    "name": "ipython",
    "version": 2
   },
   "file_extension": ".py",
   "mimetype": "text/x-python",
   "name": "python",
   "nbconvert_exporter": "python",
   "pygments_lexer": "ipython2",
   "version": "2.7.10+"
  }
 },
 "nbformat": 4,
 "nbformat_minor": 0
}
