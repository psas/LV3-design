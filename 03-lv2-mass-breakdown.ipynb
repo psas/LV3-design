{
 "cells": [
  {
   "cell_type": "markdown",
   "metadata": {},
   "source": [
    "# LV2 Mass Breakdown\n",
    "\n",
    "Compenent mass"
   ]
  },
  {
   "cell_type": "code",
   "execution_count": null,
   "metadata": {
    "collapsed": false
   },
   "outputs": [],
   "source": [
    "# Breakdown of LV2, measured from flight vehicle. Mass in grams\n",
    "\n",
    "LV2 = [\n",
    "  {'name': \"Solid Motor Casing\",     'm': 1000, 'tags': ['motor']},\n",
    "  {'name': \"Solid Propellent\",       'm':    0, 'tags': ['motor', 'propellent']},\n",
    "  {'name': \"Spin Can Skin\",          'm':    0, 'tags': ['motor', 'fin', 'lv2_al']},\n",
    "  {'name': \"Motor Skin\",             'm':    0, 'tags': ['motor', 'lv2_al']},\n",
    "  {'name': \"FC Skin\",                'm':    0, 'tags': ['fc', 'lv2_al']},\n",
    "  {'name': \"FC Antenna\",             'm':    0, 'tags': ['fc']},\n",
    "  {'name': \"Roll Skin\",              'm':    0, 'tags': ['roll', 'lv2_al']},\n",
    "  {'name': \"Camera Module Skin\",     'm':    0, 'tags': ['camera', 'lv2_al']},\n",
    "  {'name': \"Payload Module Skin\",    'm':    0, 'tags': ['payload', 'lv2_al']},\n",
    "  {'name': \"Payload Module Shell\",   'm':    0, 'tags': ['payload', 'lv2_glass']},\n",
    "  {'name': \"Recovery Module Skin\",   'm':    0, 'tags': ['recovery', 'lv2_al']},\n",
    "  {'name': \"Recovery Module Shell\",  'm':    0, 'tags': ['recovery', 'lv2_glass']},\n",
    "  {'name': \"NSR\",                    'm':    0, 'tags': ['recovery']},\n",
    "  {'name': \"Nose Cone\",              'm':    0, 'tags': ['nose', 'lv2_glass']},\n",
    "  {'name': \"Main Parachute\",         'm':    0, 'tags': ['recovery']},\n",
    "  {'name': \"Drogue Parachute\",       'm':    0, 'tags': ['recovery']},\n",
    "  {'name': \"Recovery Systems\",       'm':    0, 'tags': ['recovery']},\n",
    "  {'name': \"Payload Frame\",          'm':    0, 'tags': ['payload']},\n",
    "  {'name': \"Payload Systems\",        'm':    0, 'tags': ['payload']},\n",
    "  {'name': \"FC Frame\",               'm':    0, 'tags': ['fc']},\n",
    "  {'name': \"Cameras\",                'm':    0, 'tags': ['camera']},\n",
    "  {'name': \"Roll Control\",           'm':    0, 'tags': ['roll']},\n",
    "  {'name': \"Fins\",                   'm':    0, 'tags': ['fin']},\n",
    "  {'name': \"Connection Rings\",       'm':    0, 'tags': ['frame']},\n",
    "  {'name': \"Spin Can Bearing\",       'm':    0, 'tags': ['motor', 'fin']},\n",
    "]\n",
    "total_mass = 0\n",
    "for item in LV2:\n",
    "    total_mass += item['m']\n",
    "\n",
    "print \"Total liftoff mass of the LV2 was %0.2f kg\" % (total_mass/1000.0)"
   ]
  },
  {
   "cell_type": "code",
   "execution_count": null,
   "metadata": {
    "collapsed": false
   },
   "outputs": [],
   "source": [
    "print \" {0:<30} | {1:<10} | {2:<25}\".format(\"LV2 Component\", \"Mass [g]\", \"Percent of Total Mass [%]\")\n",
    "print \"\", \"-\"*30, \"|\", \"-\"*9 + ':', \"|\", \"-\"*24 + \":\"\n",
    "for item in sorted(LV2, key=lambda m: m['m'], reverse=True):\n",
    "    print \" {0:<30}\".format(item['name']), \"|\", \"%10.0f\" % item['m'], \"|\", \"%25.1f\" % (item['m']/float(total_mass)*100)\n",
    "print \"\", \"-\"*30, \"|\", \"-\"*10, \"|\", \"-\"*25\n",
    "print \" {0:<30}\".format(\"Total\"), \"|\", \"%10.0f\" % total_mass, \"|                     100%\""
   ]
  },
  {
   "cell_type": "markdown",
   "metadata": {},
   "source": []
  }
 ],
 "metadata": {
  "kernelspec": {
   "display_name": "Python 2",
   "language": "python",
   "name": "python2"
  },
  "language_info": {
   "codemirror_mode": {
    "name": "ipython",
    "version": 2
   },
   "file_extension": ".py",
   "mimetype": "text/x-python",
   "name": "python",
   "nbconvert_exporter": "python",
   "pygments_lexer": "ipython2",
   "version": "2.7.10+"
  }
 },
 "nbformat": 4,
 "nbformat_minor": 0
}
